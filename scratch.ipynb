{
 "cells": [
  {
   "cell_type": "code",
   "execution_count": 1,
   "metadata": {},
   "outputs": [],
   "source": [
    "import pandas as pd\n",
    "import numpy as np\n",
    "import summarize as s\n",
    "import explore as e \n",
    "import continuous_probabilistic_methods as cpm"
   ]
  },
  {
   "cell_type": "code",
   "execution_count": 2,
   "metadata": {},
   "outputs": [],
   "source": [
    "df = pd.read_csv('lemonade.csv')"
   ]
  },
  {
   "cell_type": "code",
   "execution_count": 3,
   "metadata": {},
   "outputs": [
    {
     "data": {
      "text/plain": [
       "91.25"
      ]
     },
     "execution_count": 3,
     "metadata": {},
     "output_type": "execute_result"
    }
   ],
   "source": [
    "range = len(df.index)\n",
    "range_1  = range * .25\n",
    "range_1"
   ]
  },
  {
   "cell_type": "code",
   "execution_count": 4,
   "metadata": {},
   "outputs": [
    {
     "data": {
      "text/plain": [
       "91.25"
      ]
     },
     "execution_count": 4,
     "metadata": {},
     "output_type": "execute_result"
    }
   ],
   "source": [
    "round(range_1, 2)"
   ]
  },
  {
   "cell_type": "code",
   "execution_count": 5,
   "metadata": {},
   "outputs": [],
   "source": [
    "q1_range = round((len(df.Temperature) * .25),0)"
   ]
  },
  {
   "cell_type": "code",
   "execution_count": 6,
   "metadata": {},
   "outputs": [],
   "source": [
    "q1_range = round((len((df['Temperature'].index).astype(int)) * .25),0)\n",
    "\n",
    "\n",
    "\n"
   ]
  },
  {
   "cell_type": "code",
   "execution_count": 7,
   "metadata": {},
   "outputs": [],
   "source": [
    "q1_range = int(len(df.Temperature) * .25)\n",
    "\n"
   ]
  },
  {
   "cell_type": "code",
   "execution_count": 8,
   "metadata": {},
   "outputs": [],
   "source": [
    "series = df.Temperature"
   ]
  },
  {
   "cell_type": "code",
   "execution_count": 9,
   "metadata": {},
   "outputs": [
    {
     "data": {
      "text/plain": [
       "0     27.0\n",
       "1     28.9\n",
       "2     34.5\n",
       "3     44.1\n",
       "4     42.4\n",
       "      ... \n",
       "86    55.9\n",
       "87    57.2\n",
       "88    55.2\n",
       "89    58.5\n",
       "90    57.5\n",
       "Name: Temperature, Length: 91, dtype: float64"
      ]
     },
     "execution_count": 9,
     "metadata": {},
     "output_type": "execute_result"
    }
   ],
   "source": [
    "series[:q1_range]"
   ]
  },
  {
   "cell_type": "code",
   "execution_count": 10,
   "metadata": {},
   "outputs": [],
   "source": [
    "series = df.Temperature"
   ]
  },
  {
   "cell_type": "code",
   "execution_count": 11,
   "metadata": {},
   "outputs": [],
   "source": [
    "q1_end = int(len(series) * .25)\n",
    "q2_end = int(len(series) * .50)\n",
    "q3_end = int(len(series) * .75)\n",
    "\n",
    "\n",
    "q1 = series[:q1_end]\n",
    "q2 = series[q1_end:q2_end]\n",
    "q3 = series[q2_end:q3_end]\n",
    "q4 = series[q3_end:]"
   ]
  },
  {
   "cell_type": "code",
   "execution_count": 12,
   "metadata": {},
   "outputs": [
    {
     "data": {
      "text/plain": [
       "0     27.0\n",
       "1     28.9\n",
       "2     34.5\n",
       "3     44.1\n",
       "4     42.4\n",
       "      ... \n",
       "86    55.9\n",
       "87    57.2\n",
       "88    55.2\n",
       "89    58.5\n",
       "90    57.5\n",
       "Name: Temperature, Length: 91, dtype: float64"
      ]
     },
     "execution_count": 12,
     "metadata": {},
     "output_type": "execute_result"
    }
   ],
   "source": [
    "q1"
   ]
  },
  {
   "cell_type": "code",
   "execution_count": 13,
   "metadata": {},
   "outputs": [
    {
     "data": {
      "text/plain": [
       "91      65.8\n",
       "92      60.8\n",
       "93      62.1\n",
       "94      64.4\n",
       "95      57.5\n",
       "       ...  \n",
       "177     75.3\n",
       "178     75.9\n",
       "179     86.5\n",
       "180     89.4\n",
       "181    102.9\n",
       "Name: Temperature, Length: 91, dtype: float64"
      ]
     },
     "execution_count": 13,
     "metadata": {},
     "output_type": "execute_result"
    }
   ],
   "source": [
    "q2"
   ]
  },
  {
   "cell_type": "code",
   "execution_count": 14,
   "metadata": {},
   "outputs": [
    {
     "data": {
      "text/plain": [
       "182    93.4\n",
       "183    81.5\n",
       "184    84.2\n",
       "185    93.0\n",
       "186    91.7\n",
       "       ... \n",
       "268    61.8\n",
       "269    70.7\n",
       "270    67.4\n",
       "271    66.1\n",
       "272    64.8\n",
       "Name: Temperature, Length: 91, dtype: float64"
      ]
     },
     "execution_count": 14,
     "metadata": {},
     "output_type": "execute_result"
    }
   ],
   "source": [
    "q3"
   ]
  },
  {
   "cell_type": "code",
   "execution_count": 15,
   "metadata": {},
   "outputs": [
    {
     "data": {
      "text/plain": [
       "273    56.5\n",
       "274    58.5\n",
       "275    59.2\n",
       "276    61.2\n",
       "277    60.5\n",
       "       ... \n",
       "360    42.7\n",
       "361    37.8\n",
       "362    39.5\n",
       "363    30.9\n",
       "364    15.1\n",
       "Name: Temperature, Length: 92, dtype: float64"
      ]
     },
     "execution_count": 15,
     "metadata": {},
     "output_type": "execute_result"
    }
   ],
   "source": [
    "q4"
   ]
  },
  {
   "cell_type": "code",
   "execution_count": 16,
   "metadata": {},
   "outputs": [],
   "source": [
    "#function up to splitting into 4 quartiles\n",
    "\n",
    "def get_lower_and_upper_bounds(series, multiplier = 1.5):\n",
    "\n",
    "    q1_end = int(len(series) * .25)\n",
    "    q2_end = int(len(series) * .50)\n",
    "    q3_end = int(len(series) * .75)\n",
    "\n",
    "\n",
    "    q1 = series[:q1_end]\n",
    "    q2 = series[q1_end:q2_end]\n",
    "    q3 = series[q2_end:q3_end]\n",
    "    q4 = series[q3_end:]\n",
    "\n",
    "\n",
    "    return q1, q2, q3, q4"
   ]
  },
  {
   "cell_type": "code",
   "execution_count": 17,
   "metadata": {},
   "outputs": [],
   "source": [
    "#determine IQR q3-q1\n",
    "q1_end = int(len(series) * .25)\n",
    "q2_end = int(len(series) * .50)\n",
    "q3_end = int(len(series) * .75)"
   ]
  },
  {
   "cell_type": "code",
   "execution_count": 18,
   "metadata": {},
   "outputs": [
    {
     "data": {
      "text/plain": [
       "0     27.0\n",
       "1     28.9\n",
       "2     34.5\n",
       "3     44.1\n",
       "4     42.4\n",
       "      ... \n",
       "86    55.9\n",
       "87    57.2\n",
       "88    55.2\n",
       "89    58.5\n",
       "90    57.5\n",
       "Name: Temperature, Length: 91, dtype: float64"
      ]
     },
     "execution_count": 18,
     "metadata": {},
     "output_type": "execute_result"
    }
   ],
   "source": [
    "q1"
   ]
  },
  {
   "cell_type": "code",
   "execution_count": 23,
   "metadata": {},
   "outputs": [],
   "source": [
    "# testing function in .py module\n",
    "q1, q2, q3, q4 = cpm.get_quartiles(df.Temperature)"
   ]
  },
  {
   "cell_type": "code",
   "execution_count": 25,
   "metadata": {},
   "outputs": [],
   "source": [
    "IQR = series[q1_end:q3_end]"
   ]
  },
  {
   "cell_type": "code",
   "execution_count": 26,
   "metadata": {},
   "outputs": [
    {
     "data": {
      "text/plain": [
       "91     65.8\n",
       "92     60.8\n",
       "93     62.1\n",
       "94     64.4\n",
       "95     57.5\n",
       "       ... \n",
       "268    61.8\n",
       "269    70.7\n",
       "270    67.4\n",
       "271    66.1\n",
       "272    64.8\n",
       "Name: Temperature, Length: 182, dtype: float64"
      ]
     },
     "execution_count": 26,
     "metadata": {},
     "output_type": "execute_result"
    }
   ],
   "source": [
    "IQR"
   ]
  },
  {
   "cell_type": "code",
   "execution_count": null,
   "metadata": {},
   "outputs": [],
   "source": []
  }
 ],
 "metadata": {
  "kernelspec": {
   "display_name": "base",
   "language": "python",
   "name": "python3"
  },
  "language_info": {
   "codemirror_mode": {
    "name": "ipython",
    "version": 3
   },
   "file_extension": ".py",
   "mimetype": "text/x-python",
   "name": "python",
   "nbconvert_exporter": "python",
   "pygments_lexer": "ipython3",
   "version": "3.9.13"
  },
  "orig_nbformat": 4,
  "vscode": {
   "interpreter": {
    "hash": "38cca0c38332a56087b24af0bc80247f4fced29cb4f7f437d91dc159adec9c4e"
   }
  }
 },
 "nbformat": 4,
 "nbformat_minor": 2
}
